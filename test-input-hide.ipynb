{
 "cells": [
  {
   "cell_type": "code",
   "execution_count": 2,
   "metadata": {},
   "outputs": [
    {
     "name": "stderr",
     "output_type": "stream",
     "text": [
      "C:\\Users\\user\\AppData\\Local\\Temp\\ipykernel_12632\\1018527642.py:1: DeprecationWarning: Importing display from IPython.core.display is deprecated since IPython 7.14, please import from IPython display\n",
      "  from IPython.core.display import display, HTML\n"
     ]
    },
    {
     "data": {
      "text/html": [
       "<script>\n",
       "code_show=false; \n",
       "cells = document.querySelectorAll('.jp-CodeCell .lm-Widget.p-Widget.lm-Panel.p-Panel.jp-Cell-inputWrapper')\n",
       "\n",
       "function code_toggle() {\n",
       " if (code_show){\n",
       "  Array.prototype.forEach.call(cells, function (cell) {\n",
       "    cell.style.display = 'none';\n",
       "  });\n",
       " } else {\n",
       "  Array.prototype.forEach.call(cells, function (cell) {\n",
       "    cell.style.display = '';\n",
       "  });\n",
       " }\n",
       " code_show = !code_show\n",
       "} \n",
       "\n",
       "document.addEventListener(\"DOMContentLoaded\", code_toggle);\n",
       "\n",
       "</script>\n",
       "<form action=\"javascript:code_toggle()\"><input type=\"submit\" value=\"Click here to toggle on/off the raw code.\"></form>"
      ],
      "text/plain": [
       "<IPython.core.display.HTML object>"
      ]
     },
     "execution_count": 2,
     "metadata": {},
     "output_type": "execute_result"
    }
   ],
   "source": [
    "from IPython.core.display import HTML\n",
    "\n",
    "HTML('''<script>\n",
    "code_show=false; \n",
    "cells = document.querySelectorAll('.jp-CodeCell .lm-Widget.p-Widget.lm-Panel.p-Panel.jp-Cell-inputWrapper')\n",
    "\n",
    "function code_toggle() {\n",
    " if (code_show){\n",
    "  Array.prototype.forEach.call(cells, function (cell) {\n",
    "    cell.style.display = 'none';\n",
    "  });\n",
    " } else {\n",
    "  Array.prototype.forEach.call(cells, function (cell) {\n",
    "    cell.style.display = '';\n",
    "  });\n",
    " }\n",
    " code_show = !code_show\n",
    "} \n",
    "\n",
    "document.addEventListener(\"DOMContentLoaded\", code_toggle);\n",
    "\n",
    "</script>\n",
    "<form action=\"javascript:code_toggle()\"><input type=\"submit\" value=\"Click here to toggle on/off the raw code.\"></form>''')"
   ]
  },
  {
   "cell_type": "code",
   "execution_count": 5,
   "metadata": {},
   "outputs": [
    {
     "data": {
      "text/html": [
       "<style id=hide>div.input{display:none;}</style><button type=\"button\"onclick=\"var myStyle = document.getElementById('hide').sheet;myStyle.insertRule('div.input{display:inherit !important;}', 0);\">Show inputs</button>"
      ],
      "text/plain": [
       "<IPython.core.display.HTML object>"
      ]
     },
     "execution_count": 5,
     "metadata": {},
     "output_type": "execute_result"
    }
   ],
   "source": [
    "HTML(r\"\"\"<style id=hide>div.input{display:none;}</style><button type=\"button\"onclick=\"var myStyle = document.getElementById('hide').sheet;myStyle.insertRule('div.input{display:inherit !important;}', 0);\">Show inputs</button>\"\"\")"
   ]
  },
  {
   "cell_type": "markdown",
   "metadata": {},
   "source": [
    "Посчитаем расброс"
   ]
  },
  {
   "cell_type": "code",
   "execution_count": 6,
   "metadata": {
    "jupyter": {
     "source_hidden": true
    }
   },
   "outputs": [
    {
     "data": {
      "text/plain": [
       "2"
      ]
     },
     "execution_count": 6,
     "metadata": {},
     "output_type": "execute_result"
    }
   ],
   "source": [
    "1+1"
   ]
  },
  {
   "cell_type": "markdown",
   "metadata": {},
   "source": [
    "видно, что"
   ]
  },
  {
   "cell_type": "code",
   "execution_count": 6,
   "metadata": {},
   "outputs": [],
   "source": [
    "a=3\n",
    "f=5\n",
    "sd=3"
   ]
  }
 ],
 "metadata": {
  "kernelspec": {
   "display_name": "Python 3",
   "language": "python",
   "name": "python3"
  },
  "language_info": {
   "codemirror_mode": {
    "name": "ipython",
    "version": 3
   },
   "file_extension": ".py",
   "mimetype": "text/x-python",
   "name": "python",
   "nbconvert_exporter": "python",
   "pygments_lexer": "ipython3",
   "version": "3.10.10"
  },
  "orig_nbformat": 4
 },
 "nbformat": 4,
 "nbformat_minor": 2
}
