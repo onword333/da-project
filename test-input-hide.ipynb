{
  "cells": [
    {
      "cell_type": "code",
      "execution_count": null,
      "metadata": {
        "colab": {
          "base_uri": "https://localhost:8080/",
          "height": 36
        },
        "id": "EbasiWShyhUP",
        "outputId": "782b278d-3e16-49ee-b499-d2c1714872f2"
      },
      "outputs": [
        {
          "output_type": "execute_result",
          "data": {
            "text/plain": [
              "<IPython.core.display.HTML object>"
            ],
            "text/html": [
              "<script>\n",
              "code_show=false; \n",
              "cells = document.querySelectorAll('.jp-CodeCell .lm-Widget.p-Widget.lm-Panel.p-Panel.jp-Cell-inputWrapper')\n",
              "\n",
              "function code_toggle() {\n",
              " if (code_show){\n",
              "  Array.prototype.forEach.call(cells, function (cell) {\n",
              "    cell.style.display = 'none';\n",
              "  });\n",
              " } else {\n",
              "  Array.prototype.forEach.call(cells, function (cell) {\n",
              "    cell.style.display = '';\n",
              "  });\n",
              " }\n",
              " code_show = !code_show\n",
              "} \n",
              "\n",
              "document.addEventListener(\"DOMContentLoaded\", code_toggle);\n",
              "\n",
              "</script>\n",
              "<form action=\"javascript:code_toggle()\"><input type=\"submit\" value=\"Click here to toggle on/off the raw code.\"></form>"
            ]
          },
          "metadata": {},
          "execution_count": 1
        }
      ],
      "source": [
        "from IPython.core.display import HTML\n",
        "\n",
        "HTML('''<script>\n",
        "code_show=false;\n",
        "cells = document.querySelectorAll('.jp-CodeCell .lm-Widget.p-Widget.lm-Panel.p-Panel.jp-Cell-inputWrapper')\n",
        "\n",
        "function code_toggle() {\n",
        " if (code_show){\n",
        "  Array.prototype.forEach.call(cells, function (cell) {\n",
        "    cell.style.display = 'none';\n",
        "  });\n",
        " } else {\n",
        "  Array.prototype.forEach.call(cells, function (cell) {\n",
        "    cell.style.display = '';\n",
        "  });\n",
        " }\n",
        " code_show = !code_show\n",
        "}\n",
        "\n",
        "document.addEventListener(\"DOMContentLoaded\", code_toggle);\n",
        "\n",
        "</script>\n",
        "<form action=\"javascript:code_toggle()\"><input type=\"submit\" value=\"Click here to toggle on/off the raw code.\"></form>''')"
      ]
    },
    {
      "cell_type": "code",
      "execution_count": null,
      "metadata": {
        "colab": {
          "base_uri": "https://localhost:8080/",
          "height": 38
        },
        "id": "Q65uccboyhU6",
        "outputId": "86ce7c83-5d73-4b49-d392-416350e21f85"
      },
      "outputs": [
        {
          "output_type": "execute_result",
          "data": {
            "text/plain": [
              "<IPython.core.display.HTML object>"
            ],
            "text/html": [
              "<style id=hide>div.input{display:none;}</style><button type=\"button\"onclick=\"var myStyle = document.getElementById('hide').sheet;myStyle.insertRule('div.input{display:inherit !important;}', 0);\">Show inputs</button>"
            ]
          },
          "metadata": {},
          "execution_count": 2
        }
      ],
      "source": [
        "HTML(r\"\"\"<style id=hide>div.input{display:none;}</style><button type=\"button\"onclick=\"var myStyle = document.getElementById('hide').sheet;myStyle.insertRule('div.input{display:inherit !important;}', 0);\">Show inputs</button>\"\"\")"
      ]
    },
    {
      "cell_type": "markdown",
      "metadata": {
        "id": "dHJGIQv4yhU_"
      },
      "source": [
        "Посчитаем расброс"
      ]
    },
    {
      "cell_type": "code",
      "execution_count": null,
      "metadata": {
        "jupyter": {
          "source_hidden": true
        },
        "colab": {
          "base_uri": "https://localhost:8080/"
        },
        "id": "AM7ZFHT1yhVH",
        "outputId": "56ef7e50-832d-408a-99b5-d8815f49b9eb",
        "cellView": "form"
      },
      "outputs": [
        {
          "output_type": "execute_result",
          "data": {
            "text/plain": [
              "2"
            ]
          },
          "metadata": {},
          "execution_count": 3
        }
      ],
      "source": [
        "# @title Текст заголовка по умолчанию\n",
        "1+1"
      ]
    },
    {
      "cell_type": "markdown",
      "metadata": {
        "id": "dnHp5SPUyhVI"
      },
      "source": [
        "видно, что"
      ]
    },
    {
      "cell_type": "code",
      "execution_count": null,
      "metadata": {
        "id": "xhUnZpjgyhVJ",
        "cellView": "form"
      },
      "outputs": [],
      "source": [
        "# @title\n",
        "a=3\n",
        "f=5\n",
        "sd=3"
      ]
    }
  ],
  "metadata": {
    "kernelspec": {
      "display_name": "Python 3",
      "language": "python",
      "name": "python3"
    },
    "language_info": {
      "codemirror_mode": {
        "name": "ipython",
        "version": 3
      },
      "file_extension": ".py",
      "mimetype": "text/x-python",
      "name": "python",
      "nbconvert_exporter": "python",
      "pygments_lexer": "ipython3",
      "version": "3.10.10"
    },
    "orig_nbformat": 4,
    "colab": {
      "provenance": []
    }
  },
  "nbformat": 4,
  "nbformat_minor": 0
}